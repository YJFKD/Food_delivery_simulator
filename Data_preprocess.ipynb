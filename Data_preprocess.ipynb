{
 "cells": [
  {
   "cell_type": "markdown",
   "id": "01c54d38",
   "metadata": {},
   "source": [
    "# Food delivery data preprocess"
   ]
  },
  {
   "cell_type": "markdown",
   "id": "707d52a5",
   "metadata": {},
   "source": [
    "## Import packages"
   ]
  },
  {
   "cell_type": "code",
   "execution_count": 11,
   "id": "0c021ec5",
   "metadata": {},
   "outputs": [
    {
     "name": "stdout",
     "output_type": "stream",
     "text": [
      "CPU times: user 11 µs, sys: 12 µs, total: 23 µs\n",
      "Wall time: 34.1 µs\n"
     ]
    }
   ],
   "source": [
    "%%time\n",
    "import pandas as pd\n",
    "import numpy as np\n",
    "import matplotlib.pyplot as plt"
   ]
  },
  {
   "cell_type": "code",
   "execution_count": 12,
   "id": "bc4f8ca7",
   "metadata": {},
   "outputs": [
    {
     "name": "stdout",
     "output_type": "stream",
     "text": [
      "CPU times: user 30 ms, sys: 25.5 ms, total: 55.5 ms\n",
      "Wall time: 92.1 ms\n"
     ]
    },
    {
     "data": {
      "text/plain": [
       "(   store_id promised delivery time        ordering time   latitude   longitude\n",
       " 0         1    2019-01-01 07:30:00  2019-01-01 06:30:07  31.167880  121.536578\n",
       " 1         1    2019-01-01 07:30:00  2019-01-01 06:35:02  31.175481  121.537246\n",
       " 2         1    2019-01-01 08:00:00  2019-01-01 06:47:55  31.179777  121.553969\n",
       " 3         1    2019-01-01 08:00:00  2019-01-01 06:48:59  31.175272  121.540357\n",
       " 4         1    2019-01-01 07:45:00  2019-01-01 06:50:00  31.175667  121.548509,\n",
       " (23650, 5))"
      ]
     },
     "execution_count": 12,
     "metadata": {},
     "output_type": "execute_result"
    }
   ],
   "source": [
    "%%time\n",
    "data = pd.read_csv('../Data/food_delivery_data.csv')\n",
    "data.columns = ['store_id', 'promised delivery time', 'ordering time', 'latitude', 'longitude']\n",
    "data.head(), data.shape"
   ]
  },
  {
   "cell_type": "markdown",
   "id": "5edcd545",
   "metadata": {},
   "source": [
    "## Add new columns"
   ]
  },
  {
   "cell_type": "code",
   "execution_count": 13,
   "id": "7b41c32f",
   "metadata": {},
   "outputs": [
    {
     "data": {
      "text/html": [
       "<div>\n",
       "<style scoped>\n",
       "    .dataframe tbody tr th:only-of-type {\n",
       "        vertical-align: middle;\n",
       "    }\n",
       "\n",
       "    .dataframe tbody tr th {\n",
       "        vertical-align: top;\n",
       "    }\n",
       "\n",
       "    .dataframe thead th {\n",
       "        text-align: right;\n",
       "    }\n",
       "</style>\n",
       "<table border=\"1\" class=\"dataframe\">\n",
       "  <thead>\n",
       "    <tr style=\"text-align: right;\">\n",
       "      <th></th>\n",
       "      <th>store_id</th>\n",
       "      <th>promised delivery time</th>\n",
       "      <th>ordering time</th>\n",
       "      <th>latitude</th>\n",
       "      <th>longitude</th>\n",
       "      <th>delivery time (s)</th>\n",
       "      <th>delivery time (m)</th>\n",
       "    </tr>\n",
       "  </thead>\n",
       "  <tbody>\n",
       "    <tr>\n",
       "      <th>0</th>\n",
       "      <td>1</td>\n",
       "      <td>2019-01-01 07:30:00</td>\n",
       "      <td>2019-01-01 06:30:07</td>\n",
       "      <td>31.167880</td>\n",
       "      <td>121.536578</td>\n",
       "      <td>3593</td>\n",
       "      <td>59.0</td>\n",
       "    </tr>\n",
       "    <tr>\n",
       "      <th>1</th>\n",
       "      <td>1</td>\n",
       "      <td>2019-01-01 07:30:00</td>\n",
       "      <td>2019-01-01 06:35:02</td>\n",
       "      <td>31.175481</td>\n",
       "      <td>121.537246</td>\n",
       "      <td>3298</td>\n",
       "      <td>54.0</td>\n",
       "    </tr>\n",
       "    <tr>\n",
       "      <th>2</th>\n",
       "      <td>1</td>\n",
       "      <td>2019-01-01 08:00:00</td>\n",
       "      <td>2019-01-01 06:47:55</td>\n",
       "      <td>31.179777</td>\n",
       "      <td>121.553969</td>\n",
       "      <td>4325</td>\n",
       "      <td>72.0</td>\n",
       "    </tr>\n",
       "    <tr>\n",
       "      <th>3</th>\n",
       "      <td>1</td>\n",
       "      <td>2019-01-01 08:00:00</td>\n",
       "      <td>2019-01-01 06:48:59</td>\n",
       "      <td>31.175272</td>\n",
       "      <td>121.540357</td>\n",
       "      <td>4261</td>\n",
       "      <td>71.0</td>\n",
       "    </tr>\n",
       "    <tr>\n",
       "      <th>4</th>\n",
       "      <td>1</td>\n",
       "      <td>2019-01-01 07:45:00</td>\n",
       "      <td>2019-01-01 06:50:00</td>\n",
       "      <td>31.175667</td>\n",
       "      <td>121.548509</td>\n",
       "      <td>3300</td>\n",
       "      <td>55.0</td>\n",
       "    </tr>\n",
       "  </tbody>\n",
       "</table>\n",
       "</div>"
      ],
      "text/plain": [
       "   store_id promised delivery time       ordering time   latitude   longitude  \\\n",
       "0         1    2019-01-01 07:30:00 2019-01-01 06:30:07  31.167880  121.536578   \n",
       "1         1    2019-01-01 07:30:00 2019-01-01 06:35:02  31.175481  121.537246   \n",
       "2         1    2019-01-01 08:00:00 2019-01-01 06:47:55  31.179777  121.553969   \n",
       "3         1    2019-01-01 08:00:00 2019-01-01 06:48:59  31.175272  121.540357   \n",
       "4         1    2019-01-01 07:45:00 2019-01-01 06:50:00  31.175667  121.548509   \n",
       "\n",
       "   delivery time (s)  delivery time (m)  \n",
       "0               3593               59.0  \n",
       "1               3298               54.0  \n",
       "2               4325               72.0  \n",
       "3               4261               71.0  \n",
       "4               3300               55.0  "
      ]
     },
     "execution_count": 13,
     "metadata": {},
     "output_type": "execute_result"
    }
   ],
   "source": [
    "# create a new column ('delivery time (second)')\n",
    "import datetime\n",
    "\n",
    "data['delivery time (s)'] = 0\n",
    "\n",
    "for index, row in data.iterrows():\n",
    "    t1 = datetime.datetime.strptime(data['ordering time'][index], '%Y-%m-%d %H:%M:%S')\n",
    "    t2 = datetime.datetime.strptime(data['promised delivery time'][index], '%Y-%m-%d %H:%M:%S')\n",
    "    diff = int((t2 - t1).total_seconds())\n",
    "    data.at[index, 'delivery time (s)'] = diff\n",
    "\n",
    "# create a new column ('delivery time (minute)')\n",
    "data['ordering time'] = pd.to_datetime(data['ordering time'])\n",
    "data['promised delivery time'] = pd.to_datetime(data['promised delivery time'])\n",
    "data['delivery time (m)'] = (data['promised delivery time'] - data['ordering time']).astype('timedelta64[m]')\n",
    "\n",
    "data.head()"
   ]
  },
  {
   "cell_type": "markdown",
   "id": "afa45ef4-cfac-4f3a-820b-2a646697a8e7",
   "metadata": {},
   "source": [
    "## Number of orders per time interval"
   ]
  },
  {
   "cell_type": "code",
   "execution_count": 14,
   "id": "85f6de10-7972-4099-99e2-c3d68970088d",
   "metadata": {},
   "outputs": [
    {
     "data": {
      "text/plain": [
       "0       2021-10-10 06:30:07\n",
       "1       2021-10-10 06:35:02\n",
       "2       2021-10-10 06:47:55\n",
       "3       2021-10-10 06:48:59\n",
       "4       2021-10-10 06:50:00\n",
       "                ...        \n",
       "23645   2021-10-10 18:59:08\n",
       "23646   2021-10-10 19:33:58\n",
       "23647   2021-10-10 20:22:28\n",
       "23648   2021-10-10 21:03:17\n",
       "23649   2021-10-10 21:55:25\n",
       "Name: create_at, Length: 23650, dtype: datetime64[ns]"
      ]
     },
     "execution_count": 14,
     "metadata": {},
     "output_type": "execute_result"
    }
   ],
   "source": [
    "from datetime import datetime\n",
    "\n",
    "data['create_at'] = data['ordering time'] \n",
    "data['create_at'] = data['create_at'].apply(lambda x: datetime.strptime(\"2021-10-10 \" + datetime.strftime(x, \"%H:%M:%S\"), \"%Y-%m-%d %H:%M:%S\"))\n",
    "data['create_at']"
   ]
  },
  {
   "cell_type": "code",
   "execution_count": 15,
   "id": "e11cfb71-d704-450d-aaba-ae7151360b16",
   "metadata": {
    "collapsed": true,
    "jupyter": {
     "outputs_hidden": true
    },
    "tags": []
   },
   "outputs": [
    {
     "data": {
      "text/html": [
       "<div>\n",
       "<style scoped>\n",
       "    .dataframe tbody tr th:only-of-type {\n",
       "        vertical-align: middle;\n",
       "    }\n",
       "\n",
       "    .dataframe tbody tr th {\n",
       "        vertical-align: top;\n",
       "    }\n",
       "\n",
       "    .dataframe thead th {\n",
       "        text-align: right;\n",
       "    }\n",
       "</style>\n",
       "<table border=\"1\" class=\"dataframe\">\n",
       "  <thead>\n",
       "    <tr style=\"text-align: right;\">\n",
       "      <th></th>\n",
       "      <th>create_at</th>\n",
       "      <th>count</th>\n",
       "    </tr>\n",
       "  </thead>\n",
       "  <tbody>\n",
       "    <tr>\n",
       "      <th>0</th>\n",
       "      <td>2021-10-10 06:00:00</td>\n",
       "      <td>186</td>\n",
       "    </tr>\n",
       "    <tr>\n",
       "      <th>1</th>\n",
       "      <td>2021-10-10 06:45:00</td>\n",
       "      <td>416</td>\n",
       "    </tr>\n",
       "    <tr>\n",
       "      <th>2</th>\n",
       "      <td>2021-10-10 07:30:00</td>\n",
       "      <td>621</td>\n",
       "    </tr>\n",
       "    <tr>\n",
       "      <th>3</th>\n",
       "      <td>2021-10-10 08:15:00</td>\n",
       "      <td>957</td>\n",
       "    </tr>\n",
       "    <tr>\n",
       "      <th>4</th>\n",
       "      <td>2021-10-10 09:00:00</td>\n",
       "      <td>1264</td>\n",
       "    </tr>\n",
       "    <tr>\n",
       "      <th>5</th>\n",
       "      <td>2021-10-10 09:45:00</td>\n",
       "      <td>1712</td>\n",
       "    </tr>\n",
       "    <tr>\n",
       "      <th>6</th>\n",
       "      <td>2021-10-10 10:30:00</td>\n",
       "      <td>1803</td>\n",
       "    </tr>\n",
       "    <tr>\n",
       "      <th>7</th>\n",
       "      <td>2021-10-10 11:15:00</td>\n",
       "      <td>1532</td>\n",
       "    </tr>\n",
       "    <tr>\n",
       "      <th>8</th>\n",
       "      <td>2021-10-10 12:00:00</td>\n",
       "      <td>1049</td>\n",
       "    </tr>\n",
       "    <tr>\n",
       "      <th>9</th>\n",
       "      <td>2021-10-10 12:45:00</td>\n",
       "      <td>865</td>\n",
       "    </tr>\n",
       "    <tr>\n",
       "      <th>10</th>\n",
       "      <td>2021-10-10 13:30:00</td>\n",
       "      <td>774</td>\n",
       "    </tr>\n",
       "    <tr>\n",
       "      <th>11</th>\n",
       "      <td>2021-10-10 14:15:00</td>\n",
       "      <td>833</td>\n",
       "    </tr>\n",
       "    <tr>\n",
       "      <th>12</th>\n",
       "      <td>2021-10-10 15:00:00</td>\n",
       "      <td>975</td>\n",
       "    </tr>\n",
       "    <tr>\n",
       "      <th>13</th>\n",
       "      <td>2021-10-10 15:45:00</td>\n",
       "      <td>1352</td>\n",
       "    </tr>\n",
       "    <tr>\n",
       "      <th>14</th>\n",
       "      <td>2021-10-10 16:30:00</td>\n",
       "      <td>1691</td>\n",
       "    </tr>\n",
       "    <tr>\n",
       "      <th>15</th>\n",
       "      <td>2021-10-10 17:15:00</td>\n",
       "      <td>1803</td>\n",
       "    </tr>\n",
       "    <tr>\n",
       "      <th>16</th>\n",
       "      <td>2021-10-10 18:00:00</td>\n",
       "      <td>1540</td>\n",
       "    </tr>\n",
       "    <tr>\n",
       "      <th>17</th>\n",
       "      <td>2021-10-10 18:45:00</td>\n",
       "      <td>1309</td>\n",
       "    </tr>\n",
       "    <tr>\n",
       "      <th>18</th>\n",
       "      <td>2021-10-10 19:30:00</td>\n",
       "      <td>1177</td>\n",
       "    </tr>\n",
       "    <tr>\n",
       "      <th>19</th>\n",
       "      <td>2021-10-10 20:15:00</td>\n",
       "      <td>1007</td>\n",
       "    </tr>\n",
       "    <tr>\n",
       "      <th>20</th>\n",
       "      <td>2021-10-10 21:00:00</td>\n",
       "      <td>642</td>\n",
       "    </tr>\n",
       "    <tr>\n",
       "      <th>21</th>\n",
       "      <td>2021-10-10 21:45:00</td>\n",
       "      <td>142</td>\n",
       "    </tr>\n",
       "  </tbody>\n",
       "</table>\n",
       "</div>"
      ],
      "text/plain": [
       "             create_at  count\n",
       "0  2021-10-10 06:00:00    186\n",
       "1  2021-10-10 06:45:00    416\n",
       "2  2021-10-10 07:30:00    621\n",
       "3  2021-10-10 08:15:00    957\n",
       "4  2021-10-10 09:00:00   1264\n",
       "5  2021-10-10 09:45:00   1712\n",
       "6  2021-10-10 10:30:00   1803\n",
       "7  2021-10-10 11:15:00   1532\n",
       "8  2021-10-10 12:00:00   1049\n",
       "9  2021-10-10 12:45:00    865\n",
       "10 2021-10-10 13:30:00    774\n",
       "11 2021-10-10 14:15:00    833\n",
       "12 2021-10-10 15:00:00    975\n",
       "13 2021-10-10 15:45:00   1352\n",
       "14 2021-10-10 16:30:00   1691\n",
       "15 2021-10-10 17:15:00   1803\n",
       "16 2021-10-10 18:00:00   1540\n",
       "17 2021-10-10 18:45:00   1309\n",
       "18 2021-10-10 19:30:00   1177\n",
       "19 2021-10-10 20:15:00   1007\n",
       "20 2021-10-10 21:00:00    642\n",
       "21 2021-10-10 21:45:00    142"
      ]
     },
     "execution_count": 15,
     "metadata": {},
     "output_type": "execute_result"
    }
   ],
   "source": [
    "data['count'] = 0\n",
    "order_count_df = data[['create_at', 'count']].groupby(pd.Grouper(key=\"create_at\", freq=\"45min\")).count().reset_index()\n",
    "order_count_df"
   ]
  },
  {
   "cell_type": "code",
   "execution_count": 16,
   "id": "1ae69c5b-b18d-4354-8046-b3cf0367d3d8",
   "metadata": {},
   "outputs": [
    {
     "name": "stderr",
     "output_type": "stream",
     "text": [
      "/Users/yangjingfeng/anaconda3/envs/d2l/lib/python3.7/site-packages/ipykernel_launcher.py:4: SettingWithCopyWarning: \n",
      "A value is trying to be set on a copy of a slice from a DataFrame.\n",
      "Try using .loc[row_indexer,col_indexer] = value instead\n",
      "\n",
      "See the caveats in the documentation: https://pandas.pydata.org/pandas-docs/stable/user_guide/indexing.html#returning-a-view-versus-a-copy\n",
      "  after removing the cwd from sys.path.\n",
      "/Users/yangjingfeng/anaconda3/envs/d2l/lib/python3.7/site-packages/ipykernel_launcher.py:5: SettingWithCopyWarning: \n",
      "A value is trying to be set on a copy of a slice from a DataFrame.\n",
      "Try using .loc[row_indexer,col_indexer] = value instead\n",
      "\n",
      "See the caveats in the documentation: https://pandas.pydata.org/pandas-docs/stable/user_guide/indexing.html#returning-a-view-versus-a-copy\n",
      "  \"\"\"\n"
     ]
    },
    {
     "data": {
      "text/plain": [
       "((14,), (14,))"
      ]
     },
     "execution_count": 16,
     "metadata": {},
     "output_type": "execute_result"
    }
   ],
   "source": [
    "rest_1 = data[data['store_id'] == 1]\n",
    "rest_2 = data[data['store_id'] == 2]\n",
    "\n",
    "rest_1['order_date'] = rest_1['ordering time'].dt.date\n",
    "rest_2['order_date'] = rest_2['ordering time'].dt.date\n",
    "\n",
    "rest_1['order_date'].unique().shape, rest_2['order_date'].unique().shape"
   ]
  },
  {
   "cell_type": "code",
   "execution_count": 26,
   "id": "207f5ccd-0c6a-4745-8f9e-e4a92fd414ed",
   "metadata": {
    "collapsed": true,
    "jupyter": {
     "outputs_hidden": true
    },
    "tags": []
   },
   "outputs": [
    {
     "data": {
      "text/html": [
       "<div>\n",
       "<style scoped>\n",
       "    .dataframe tbody tr th:only-of-type {\n",
       "        vertical-align: middle;\n",
       "    }\n",
       "\n",
       "    .dataframe tbody tr th {\n",
       "        vertical-align: top;\n",
       "    }\n",
       "\n",
       "    .dataframe thead th {\n",
       "        text-align: right;\n",
       "    }\n",
       "</style>\n",
       "<table border=\"1\" class=\"dataframe\">\n",
       "  <thead>\n",
       "    <tr style=\"text-align: right;\">\n",
       "      <th></th>\n",
       "      <th>create_at</th>\n",
       "      <th>count</th>\n",
       "    </tr>\n",
       "  </thead>\n",
       "  <tbody>\n",
       "    <tr>\n",
       "      <th>0</th>\n",
       "      <td>2021-10-10 06:00:00</td>\n",
       "      <td>103</td>\n",
       "    </tr>\n",
       "    <tr>\n",
       "      <th>1</th>\n",
       "      <td>2021-10-10 06:45:00</td>\n",
       "      <td>197</td>\n",
       "    </tr>\n",
       "    <tr>\n",
       "      <th>2</th>\n",
       "      <td>2021-10-10 07:30:00</td>\n",
       "      <td>301</td>\n",
       "    </tr>\n",
       "    <tr>\n",
       "      <th>3</th>\n",
       "      <td>2021-10-10 08:15:00</td>\n",
       "      <td>480</td>\n",
       "    </tr>\n",
       "    <tr>\n",
       "      <th>4</th>\n",
       "      <td>2021-10-10 09:00:00</td>\n",
       "      <td>593</td>\n",
       "    </tr>\n",
       "    <tr>\n",
       "      <th>5</th>\n",
       "      <td>2021-10-10 09:45:00</td>\n",
       "      <td>818</td>\n",
       "    </tr>\n",
       "    <tr>\n",
       "      <th>6</th>\n",
       "      <td>2021-10-10 10:30:00</td>\n",
       "      <td>810</td>\n",
       "    </tr>\n",
       "    <tr>\n",
       "      <th>7</th>\n",
       "      <td>2021-10-10 11:15:00</td>\n",
       "      <td>690</td>\n",
       "    </tr>\n",
       "    <tr>\n",
       "      <th>8</th>\n",
       "      <td>2021-10-10 12:00:00</td>\n",
       "      <td>554</td>\n",
       "    </tr>\n",
       "    <tr>\n",
       "      <th>9</th>\n",
       "      <td>2021-10-10 12:45:00</td>\n",
       "      <td>468</td>\n",
       "    </tr>\n",
       "    <tr>\n",
       "      <th>10</th>\n",
       "      <td>2021-10-10 13:30:00</td>\n",
       "      <td>457</td>\n",
       "    </tr>\n",
       "    <tr>\n",
       "      <th>11</th>\n",
       "      <td>2021-10-10 14:15:00</td>\n",
       "      <td>488</td>\n",
       "    </tr>\n",
       "    <tr>\n",
       "      <th>12</th>\n",
       "      <td>2021-10-10 15:00:00</td>\n",
       "      <td>603</td>\n",
       "    </tr>\n",
       "    <tr>\n",
       "      <th>13</th>\n",
       "      <td>2021-10-10 15:45:00</td>\n",
       "      <td>786</td>\n",
       "    </tr>\n",
       "    <tr>\n",
       "      <th>14</th>\n",
       "      <td>2021-10-10 16:30:00</td>\n",
       "      <td>895</td>\n",
       "    </tr>\n",
       "    <tr>\n",
       "      <th>15</th>\n",
       "      <td>2021-10-10 17:15:00</td>\n",
       "      <td>884</td>\n",
       "    </tr>\n",
       "    <tr>\n",
       "      <th>16</th>\n",
       "      <td>2021-10-10 18:00:00</td>\n",
       "      <td>755</td>\n",
       "    </tr>\n",
       "    <tr>\n",
       "      <th>17</th>\n",
       "      <td>2021-10-10 18:45:00</td>\n",
       "      <td>654</td>\n",
       "    </tr>\n",
       "    <tr>\n",
       "      <th>18</th>\n",
       "      <td>2021-10-10 19:30:00</td>\n",
       "      <td>506</td>\n",
       "    </tr>\n",
       "    <tr>\n",
       "      <th>19</th>\n",
       "      <td>2021-10-10 20:15:00</td>\n",
       "      <td>451</td>\n",
       "    </tr>\n",
       "    <tr>\n",
       "      <th>20</th>\n",
       "      <td>2021-10-10 21:00:00</td>\n",
       "      <td>189</td>\n",
       "    </tr>\n",
       "    <tr>\n",
       "      <th>21</th>\n",
       "      <td>2021-10-10 21:45:00</td>\n",
       "      <td>29</td>\n",
       "    </tr>\n",
       "  </tbody>\n",
       "</table>\n",
       "</div>"
      ],
      "text/plain": [
       "             create_at  count\n",
       "0  2021-10-10 06:00:00    103\n",
       "1  2021-10-10 06:45:00    197\n",
       "2  2021-10-10 07:30:00    301\n",
       "3  2021-10-10 08:15:00    480\n",
       "4  2021-10-10 09:00:00    593\n",
       "5  2021-10-10 09:45:00    818\n",
       "6  2021-10-10 10:30:00    810\n",
       "7  2021-10-10 11:15:00    690\n",
       "8  2021-10-10 12:00:00    554\n",
       "9  2021-10-10 12:45:00    468\n",
       "10 2021-10-10 13:30:00    457\n",
       "11 2021-10-10 14:15:00    488\n",
       "12 2021-10-10 15:00:00    603\n",
       "13 2021-10-10 15:45:00    786\n",
       "14 2021-10-10 16:30:00    895\n",
       "15 2021-10-10 17:15:00    884\n",
       "16 2021-10-10 18:00:00    755\n",
       "17 2021-10-10 18:45:00    654\n",
       "18 2021-10-10 19:30:00    506\n",
       "19 2021-10-10 20:15:00    451\n",
       "20 2021-10-10 21:00:00    189\n",
       "21 2021-10-10 21:45:00     29"
      ]
     },
     "execution_count": 26,
     "metadata": {},
     "output_type": "execute_result"
    }
   ],
   "source": [
    "order_count_df_1 = rest_1[['create_at', 'count']].groupby(pd.Grouper(key=\"create_at\", freq=\"45min\")).count().reset_index()\n",
    "order_count_df_2 = rest_2[['create_at', 'count']].groupby(pd.Grouper(key=\"create_at\", freq=\"45min\")).count().reset_index()\n",
    "order_count_df_1"
   ]
  },
  {
   "cell_type": "code",
   "execution_count": 30,
   "id": "e20d4ccd-626c-46c0-a236-135bb6ffcf74",
   "metadata": {
    "tags": []
   },
   "outputs": [],
   "source": [
    "order_count_df_1['count'] = order_count_df_1['count'] // 14\n",
    "order_count_df_2['count'] = order_count_df_2['count'] // 14"
   ]
  },
  {
   "cell_type": "code",
   "execution_count": 36,
   "id": "764cb4ef-41d9-4097-99f5-c3cf37e7934e",
   "metadata": {
    "collapsed": true,
    "jupyter": {
     "outputs_hidden": true
    },
    "tags": []
   },
   "outputs": [
    {
     "data": {
      "text/html": [
       "<div>\n",
       "<style scoped>\n",
       "    .dataframe tbody tr th:only-of-type {\n",
       "        vertical-align: middle;\n",
       "    }\n",
       "\n",
       "    .dataframe tbody tr th {\n",
       "        vertical-align: top;\n",
       "    }\n",
       "\n",
       "    .dataframe thead th {\n",
       "        text-align: right;\n",
       "    }\n",
       "</style>\n",
       "<table border=\"1\" class=\"dataframe\">\n",
       "  <thead>\n",
       "    <tr style=\"text-align: right;\">\n",
       "      <th></th>\n",
       "      <th>create_at</th>\n",
       "      <th>count</th>\n",
       "    </tr>\n",
       "  </thead>\n",
       "  <tbody>\n",
       "    <tr>\n",
       "      <th>0</th>\n",
       "      <td>2021-10-10 06:00:00</td>\n",
       "      <td>5</td>\n",
       "    </tr>\n",
       "    <tr>\n",
       "      <th>1</th>\n",
       "      <td>2021-10-10 06:45:00</td>\n",
       "      <td>15</td>\n",
       "    </tr>\n",
       "    <tr>\n",
       "      <th>2</th>\n",
       "      <td>2021-10-10 07:30:00</td>\n",
       "      <td>22</td>\n",
       "    </tr>\n",
       "    <tr>\n",
       "      <th>3</th>\n",
       "      <td>2021-10-10 08:15:00</td>\n",
       "      <td>34</td>\n",
       "    </tr>\n",
       "    <tr>\n",
       "      <th>4</th>\n",
       "      <td>2021-10-10 09:00:00</td>\n",
       "      <td>47</td>\n",
       "    </tr>\n",
       "    <tr>\n",
       "      <th>5</th>\n",
       "      <td>2021-10-10 09:45:00</td>\n",
       "      <td>63</td>\n",
       "    </tr>\n",
       "    <tr>\n",
       "      <th>6</th>\n",
       "      <td>2021-10-10 10:30:00</td>\n",
       "      <td>70</td>\n",
       "    </tr>\n",
       "    <tr>\n",
       "      <th>7</th>\n",
       "      <td>2021-10-10 11:15:00</td>\n",
       "      <td>60</td>\n",
       "    </tr>\n",
       "    <tr>\n",
       "      <th>8</th>\n",
       "      <td>2021-10-10 12:00:00</td>\n",
       "      <td>35</td>\n",
       "    </tr>\n",
       "    <tr>\n",
       "      <th>9</th>\n",
       "      <td>2021-10-10 12:45:00</td>\n",
       "      <td>28</td>\n",
       "    </tr>\n",
       "    <tr>\n",
       "      <th>10</th>\n",
       "      <td>2021-10-10 13:30:00</td>\n",
       "      <td>22</td>\n",
       "    </tr>\n",
       "    <tr>\n",
       "      <th>11</th>\n",
       "      <td>2021-10-10 14:15:00</td>\n",
       "      <td>24</td>\n",
       "    </tr>\n",
       "    <tr>\n",
       "      <th>12</th>\n",
       "      <td>2021-10-10 15:00:00</td>\n",
       "      <td>26</td>\n",
       "    </tr>\n",
       "    <tr>\n",
       "      <th>13</th>\n",
       "      <td>2021-10-10 15:45:00</td>\n",
       "      <td>40</td>\n",
       "    </tr>\n",
       "    <tr>\n",
       "      <th>14</th>\n",
       "      <td>2021-10-10 16:30:00</td>\n",
       "      <td>56</td>\n",
       "    </tr>\n",
       "    <tr>\n",
       "      <th>15</th>\n",
       "      <td>2021-10-10 17:15:00</td>\n",
       "      <td>65</td>\n",
       "    </tr>\n",
       "    <tr>\n",
       "      <th>16</th>\n",
       "      <td>2021-10-10 18:00:00</td>\n",
       "      <td>56</td>\n",
       "    </tr>\n",
       "    <tr>\n",
       "      <th>17</th>\n",
       "      <td>2021-10-10 18:45:00</td>\n",
       "      <td>46</td>\n",
       "    </tr>\n",
       "    <tr>\n",
       "      <th>18</th>\n",
       "      <td>2021-10-10 19:30:00</td>\n",
       "      <td>47</td>\n",
       "    </tr>\n",
       "    <tr>\n",
       "      <th>19</th>\n",
       "      <td>2021-10-10 20:15:00</td>\n",
       "      <td>39</td>\n",
       "    </tr>\n",
       "    <tr>\n",
       "      <th>20</th>\n",
       "      <td>2021-10-10 21:00:00</td>\n",
       "      <td>32</td>\n",
       "    </tr>\n",
       "    <tr>\n",
       "      <th>21</th>\n",
       "      <td>2021-10-10 21:45:00</td>\n",
       "      <td>8</td>\n",
       "    </tr>\n",
       "  </tbody>\n",
       "</table>\n",
       "</div>"
      ],
      "text/plain": [
       "             create_at  count\n",
       "0  2021-10-10 06:00:00      5\n",
       "1  2021-10-10 06:45:00     15\n",
       "2  2021-10-10 07:30:00     22\n",
       "3  2021-10-10 08:15:00     34\n",
       "4  2021-10-10 09:00:00     47\n",
       "5  2021-10-10 09:45:00     63\n",
       "6  2021-10-10 10:30:00     70\n",
       "7  2021-10-10 11:15:00     60\n",
       "8  2021-10-10 12:00:00     35\n",
       "9  2021-10-10 12:45:00     28\n",
       "10 2021-10-10 13:30:00     22\n",
       "11 2021-10-10 14:15:00     24\n",
       "12 2021-10-10 15:00:00     26\n",
       "13 2021-10-10 15:45:00     40\n",
       "14 2021-10-10 16:30:00     56\n",
       "15 2021-10-10 17:15:00     65\n",
       "16 2021-10-10 18:00:00     56\n",
       "17 2021-10-10 18:45:00     46\n",
       "18 2021-10-10 19:30:00     47\n",
       "19 2021-10-10 20:15:00     39\n",
       "20 2021-10-10 21:00:00     32\n",
       "21 2021-10-10 21:45:00      8"
      ]
     },
     "execution_count": 36,
     "metadata": {},
     "output_type": "execute_result"
    }
   ],
   "source": [
    "order_count_df_1"
   ]
  },
  {
   "cell_type": "code",
   "execution_count": 37,
   "id": "a5d23abf-313c-476f-a8e7-4aa7e6049a4d",
   "metadata": {},
   "outputs": [
    {
     "name": "stdout",
     "output_type": "stream",
     "text": [
      "Writing the orders per time to file.\n"
     ]
    }
   ],
   "source": [
    "order_count_df_1.to_csv(\"../Data/order_per_time_period_1.csv\")\n",
    "order_count_df_2.to_csv(\"../Data/order_per_time_period_2.csv\")\n",
    "print(\"Writing the orders per time to file.\")"
   ]
  },
  {
   "cell_type": "code",
   "execution_count": 38,
   "id": "0683e7ba-c086-48a5-805f-9dace26f62c0",
   "metadata": {},
   "outputs": [
    {
     "data": {
      "image/png": "[encoded data removed]",
      "text/plain": [
       "<Figure size 432x288 with 1 Axes>"
      ]
     },
     "metadata": {
      "needs_background": "light"
     },
     "output_type": "display_data"
    }
   ],
   "source": [
    "# visualization\n",
    "total_width, n = 0.8, 2\n",
    "width = total_width / n\n",
    "\n",
    "plt.bar(order_count_df_1.index, order_count_df_1['count'], width=width, label='Restaurant 1')\n",
    "plt.bar(order_count_df_2.index + width, order_count_df_2['count'], width=width, label='Restaurant 2')\n",
    "plt.xticks(range(0,22))\n",
    "plt.legend()\n",
    "plt.savefig(\"../Figures/Orders per 45 mins.png\", dpi=300)\n",
    "plt.show()"
   ]
  },
  {
   "cell_type": "markdown",
   "id": "61a70a03-7b2e-4bb3-80bc-2033242a4edb",
   "metadata": {},
   "source": [
    "## Number of orders per hour"
   ]
  },
  {
   "cell_type": "code",
   "execution_count": 26,
   "id": "43a44fa3-0f97-4769-8d36-924f6958e1aa",
   "metadata": {
    "collapsed": true,
    "jupyter": {
     "outputs_hidden": true
    },
    "tags": []
   },
   "outputs": [
    {
     "name": "stderr",
     "output_type": "stream",
     "text": [
      "/Users/yangjingfeng/anaconda3/envs/d2l/lib/python3.7/site-packages/ipykernel_launcher.py:7: SettingWithCopyWarning: \n",
      "A value is trying to be set on a copy of a slice from a DataFrame.\n",
      "Try using .loc[row_indexer,col_indexer] = value instead\n",
      "\n",
      "See the caveats in the documentation: https://pandas.pydata.org/pandas-docs/stable/user_guide/indexing.html#returning-a-view-versus-a-copy\n",
      "  import sys\n",
      "/Users/yangjingfeng/anaconda3/envs/d2l/lib/python3.7/site-packages/ipykernel_launcher.py:7: SettingWithCopyWarning: \n",
      "A value is trying to be set on a copy of a slice from a DataFrame.\n",
      "Try using .loc[row_indexer,col_indexer] = value instead\n",
      "\n",
      "See the caveats in the documentation: https://pandas.pydata.org/pandas-docs/stable/user_guide/indexing.html#returning-a-view-versus-a-copy\n",
      "  import sys\n"
     ]
    }
   ],
   "source": [
    "hours = list(data['ordering time'].dt.hour.unique())\n",
    "restaurants = list(data['store_id'].unique())\n",
    "orders_per_hour = []\n",
    "\n",
    "for r in restaurants:\n",
    "    restau_df = data[data['store_id'] == r]\n",
    "    restau_df['hour'] = restau_df['ordering time'].dt.hour\n",
    "    restau_df_day_list = restau_df['ordering time'].dt.date.unique()\n",
    "    restau_hour_df = restau_df['hour'].value_counts().sort_index()\n",
    "    restau_hour_avg_df = (restau_hour_df / len(restau_df_day_list)).astype(np.int64)\n",
    "    orders_per_hour.append(restau_hour_avg_df)"
   ]
  },
  {
   "cell_type": "code",
   "execution_count": 29,
   "id": "df2a1d7e-44d7-4cab-a53a-89a64ddda8cc",
   "metadata": {},
   "outputs": [
    {
     "data": {
      "text/plain": [
       "array([12, 23, 41, 60, 80, 66, 51, 44, 44, 60, 83, 82, 71, 54, 43, 15])"
      ]
     },
     "execution_count": 29,
     "metadata": {},
     "output_type": "execute_result"
    }
   ],
   "source": [
    "orders_per_hour[0].values"
   ]
  },
  {
   "cell_type": "code",
   "execution_count": 34,
   "id": "d8b2d0b5-54fe-46a3-80f4-eef26480926c",
   "metadata": {},
   "outputs": [
    {
     "data": {
      "image/png": "[encoded data removed]",
      "text/plain": [
       "<Figure size 432x288 with 1 Axes>"
      ]
     },
     "metadata": {
      "needs_background": "light"
     },
     "output_type": "display_data"
    }
   ],
   "source": [
    "total_width, n = 0.8, 2\n",
    "width = total_width / n\n",
    "\n",
    "plt.bar(orders_per_hour[0].index, orders_per_hour[0].values, width=width, label='Restaurant 1')\n",
    "plt.bar(orders_per_hour[1].index + width, orders_per_hour[1].values, width=width, label='Restaurant 2')\n",
    "plt.xticks(range(6,22))\n",
    "plt.legend()\n",
    "plt.savefig(\"../Figures/Orders per hour.png\", dpi=300)\n",
    "plt.show()"
   ]
  },
  {
   "cell_type": "markdown",
   "id": "5432c86e-fd44-4c70-8548-d66bd61283cd",
   "metadata": {},
   "source": [
    "## Number of orders per day"
   ]
  },
  {
   "cell_type": "code",
   "execution_count": 48,
   "id": "d4c8a817-445d-479e-8656-9012c510e9bc",
   "metadata": {
    "collapsed": true,
    "jupyter": {
     "outputs_hidden": true
    },
    "tags": []
   },
   "outputs": [
    {
     "name": "stdout",
     "output_type": "stream",
     "text": [
      "[2018-12-09     712\n",
      "2018-12-10     711\n",
      "2018-12-11     716\n",
      "2018-12-12     711\n",
      "2018-12-13     727\n",
      "2018-12-14    1076\n",
      "2018-12-15    1057\n",
      "2018-12-30     682\n",
      "2018-12-31     744\n",
      "2019-01-01     938\n",
      "2019-01-02     728\n",
      "2019-01-03     848\n",
      "2019-01-04    1089\n",
      "2019-01-05     972\n",
      "Name: day, dtype: int64, 2018-12-09    1039\n",
      "2018-12-10     922\n",
      "2018-12-11     888\n",
      "2018-12-12     947\n",
      "2018-12-13     871\n",
      "2018-12-14    1185\n",
      "2018-12-15    1286\n",
      "2019-01-06     635\n",
      "2019-01-07     677\n",
      "2019-01-08     631\n",
      "2019-01-09     621\n",
      "2019-01-10     585\n",
      "2019-01-11     793\n",
      "2019-01-12     859\n",
      "Name: day, dtype: int64]\n",
      "Index([2018-12-09, 2018-12-10, 2018-12-11, 2018-12-12, 2018-12-13, 2018-12-14,\n",
      "       2018-12-15, 2018-12-30, 2018-12-31, 2019-01-01, 2019-01-02, 2019-01-03,\n",
      "       2019-01-04, 2019-01-05],\n",
      "      dtype='object')\n"
     ]
    },
    {
     "name": "stderr",
     "output_type": "stream",
     "text": [
      "/Users/yangjingfeng/anaconda3/envs/d2l/lib/python3.7/site-packages/ipykernel_launcher.py:6: SettingWithCopyWarning: \n",
      "A value is trying to be set on a copy of a slice from a DataFrame.\n",
      "Try using .loc[row_indexer,col_indexer] = value instead\n",
      "\n",
      "See the caveats in the documentation: https://pandas.pydata.org/pandas-docs/stable/user_guide/indexing.html#returning-a-view-versus-a-copy\n",
      "  \n",
      "/Users/yangjingfeng/anaconda3/envs/d2l/lib/python3.7/site-packages/ipykernel_launcher.py:6: SettingWithCopyWarning: \n",
      "A value is trying to be set on a copy of a slice from a DataFrame.\n",
      "Try using .loc[row_indexer,col_indexer] = value instead\n",
      "\n",
      "See the caveats in the documentation: https://pandas.pydata.org/pandas-docs/stable/user_guide/indexing.html#returning-a-view-versus-a-copy\n",
      "  \n"
     ]
    }
   ],
   "source": [
    "dates = list(data['ordering time'].dt.date.unique())\n",
    "orders_per_day = []\n",
    "\n",
    "for r in restaurants:\n",
    "    restau_df = data[data['store_id'] == r]\n",
    "    restau_df['day'] = restau_df['ordering time'].dt.date\n",
    "    restau_date_df = restau_df['day'].value_counts().sort_index()\n",
    "    orders_per_day.append(restau_date_df)\n",
    "\n",
    "print(orders_per_day)\n",
    "print(orders_per_day[0].index)"
   ]
  },
  {
   "cell_type": "markdown",
   "id": "0f2adde2-79ed-4d3a-817b-c371c24fd40a",
   "metadata": {},
   "source": [
    "## Promised delivery time"
   ]
  },
  {
   "cell_type": "code",
   "execution_count": 61,
   "id": "ed8dcc10-41f3-4bd7-9f34-38d9457c7021",
   "metadata": {},
   "outputs": [
    {
     "name": "stderr",
     "output_type": "stream",
     "text": [
      "/Users/yangjingfeng/anaconda3/envs/d2l/lib/python3.7/site-packages/ipykernel_launcher.py:5: SettingWithCopyWarning: \n",
      "A value is trying to be set on a copy of a slice from a DataFrame.\n",
      "Try using .loc[row_indexer,col_indexer] = value instead\n",
      "\n",
      "See the caveats in the documentation: https://pandas.pydata.org/pandas-docs/stable/user_guide/indexing.html#returning-a-view-versus-a-copy\n",
      "  \"\"\"\n",
      "/Users/yangjingfeng/anaconda3/envs/d2l/lib/python3.7/site-packages/ipykernel_launcher.py:5: SettingWithCopyWarning: \n",
      "A value is trying to be set on a copy of a slice from a DataFrame.\n",
      "Try using .loc[row_indexer,col_indexer] = value instead\n",
      "\n",
      "See the caveats in the documentation: https://pandas.pydata.org/pandas-docs/stable/user_guide/indexing.html#returning-a-view-versus-a-copy\n",
      "  \"\"\"\n"
     ]
    },
    {
     "data": {
      "image/png": "[encoded data removed]",
      "text/plain": [
       "<Figure size 432x288 with 1 Axes>"
      ]
     },
     "metadata": {
      "needs_background": "light"
     },
     "output_type": "display_data"
    }
   ],
   "source": [
    "delivery_time_hour_list = []\n",
    "\n",
    "for r in restaurants:\n",
    "    restau_df = data[data['store_id'] == r]\n",
    "    restau_df['hour'] = restau_df['ordering time'].dt.hour\n",
    "    output_df = restau_df.groupby('hour')['delivery time (m)'].mean()\n",
    "    delivery_time_hour_list.append(output_df)\n",
    "\n",
    "plt.bar(delivery_time_hour_list[0].index, delivery_time_hour_list[0].values, width=width, label='Restaurant 1')\n",
    "plt.bar(delivery_time_hour_list[1].index + width, delivery_time_hour_list[1].values, width=width, label='Restaurant 2')\n",
    "plt.xticks(range(6,22))\n",
    "plt.legend()\n",
    "plt.savefig(\"../Figures/Delivery time per hour.png\", dpi=300)\n",
    "plt.show()"
   ]
  },
  {
   "cell_type": "code",
   "execution_count": 9,
   "id": "82b08009",
   "metadata": {},
   "outputs": [],
   "source": [
    "from geopy import distance\n",
    "\n",
    "def distance_loc(p1, p2):\n",
    "    '''\n",
    "    Input: locations (latitude, longitude)\n",
    "     - p1: location 1\n",
    "     - p2: location 2\n",
    "    Output: distance in km\n",
    "    '''\n",
    "    return distance.distance(p1, p2).km"
   ]
  },
  {
   "cell_type": "code",
   "execution_count": null,
   "id": "a9634c7b",
   "metadata": {},
   "outputs": [
    {
     "data": {
      "text/plain": [
       "{1: (31.1839785, 121.5382955), 2: (22.496323, 113.937388)}"
      ]
     },
     "execution_count": 17,
     "metadata": {},
     "output_type": "execute_result"
    }
   ],
   "source": [
    "# get the boundary of the restaurants\n",
    "restaurants = list(data['store_id'].unique())\n",
    "restaurants_dict = {k:[] for k in restaurants}\n",
    "boundary_dict = {k:[] for k in restaurants}\n",
    "data['distance (m)'] = 0.0\n",
    "\n",
    "for r in restaurants:\n",
    "    df = data.loc[data['store_id'] == r]\n",
    "\n",
    "    # get boundary\n",
    "    west = df.longitude.min()\n",
    "    east = df.longitude.max()\n",
    "    south = df.latitude.min()\n",
    "    north = df.latitude.max()\n",
    "    boundary_dict[r] = [west, east, south, north]\n",
    "\n",
    "    # restaurant location\n",
    "    r_longi = np.average([west, east])\n",
    "    r_latit = np.average([south, north])\n",
    "    restaurants_dict[r] = (r_latit, r_longi)\n",
    "\n",
    "restaurants_dict"
   ]
  },
  {
   "cell_type": "code",
   "execution_count": 19,
   "id": "13ad07e5",
   "metadata": {},
   "outputs": [
    {
     "data": {
      "text/html": [
       "<div>\n",
       "<style scoped>\n",
       "    .dataframe tbody tr th:only-of-type {\n",
       "        vertical-align: middle;\n",
       "    }\n",
       "\n",
       "    .dataframe tbody tr th {\n",
       "        vertical-align: top;\n",
       "    }\n",
       "\n",
       "    .dataframe thead th {\n",
       "        text-align: right;\n",
       "    }\n",
       "</style>\n",
       "<table border=\"1\" class=\"dataframe\">\n",
       "  <thead>\n",
       "    <tr style=\"text-align: right;\">\n",
       "      <th></th>\n",
       "      <th>store_id</th>\n",
       "      <th>promised delivery time</th>\n",
       "      <th>ordering time</th>\n",
       "      <th>latitude</th>\n",
       "      <th>longitude</th>\n",
       "      <th>delivery time (s)</th>\n",
       "      <th>delivery time (m)</th>\n",
       "      <th>distance</th>\n",
       "      <th>distance (m)</th>\n",
       "    </tr>\n",
       "  </thead>\n",
       "  <tbody>\n",
       "    <tr>\n",
       "      <th>0</th>\n",
       "      <td>1</td>\n",
       "      <td>2019-01-01 07:30:00</td>\n",
       "      <td>2019-01-01 06:30:07</td>\n",
       "      <td>31.167880</td>\n",
       "      <td>121.536578</td>\n",
       "      <td>3593</td>\n",
       "      <td>59.0</td>\n",
       "      <td>1.792374</td>\n",
       "      <td>1792.374399</td>\n",
       "    </tr>\n",
       "    <tr>\n",
       "      <th>1</th>\n",
       "      <td>1</td>\n",
       "      <td>2019-01-01 07:30:00</td>\n",
       "      <td>2019-01-01 06:35:02</td>\n",
       "      <td>31.175481</td>\n",
       "      <td>121.537246</td>\n",
       "      <td>3298</td>\n",
       "      <td>54.0</td>\n",
       "      <td>0.947436</td>\n",
       "      <td>947.436336</td>\n",
       "    </tr>\n",
       "    <tr>\n",
       "      <th>2</th>\n",
       "      <td>1</td>\n",
       "      <td>2019-01-01 08:00:00</td>\n",
       "      <td>2019-01-01 06:47:55</td>\n",
       "      <td>31.179777</td>\n",
       "      <td>121.553969</td>\n",
       "      <td>4325</td>\n",
       "      <td>72.0</td>\n",
       "      <td>1.564975</td>\n",
       "      <td>1564.975000</td>\n",
       "    </tr>\n",
       "    <tr>\n",
       "      <th>3</th>\n",
       "      <td>1</td>\n",
       "      <td>2019-01-01 08:00:00</td>\n",
       "      <td>2019-01-01 06:48:59</td>\n",
       "      <td>31.175272</td>\n",
       "      <td>121.540357</td>\n",
       "      <td>4261</td>\n",
       "      <td>71.0</td>\n",
       "      <td>0.985111</td>\n",
       "      <td>985.111196</td>\n",
       "    </tr>\n",
       "    <tr>\n",
       "      <th>4</th>\n",
       "      <td>1</td>\n",
       "      <td>2019-01-01 07:45:00</td>\n",
       "      <td>2019-01-01 06:50:00</td>\n",
       "      <td>31.175667</td>\n",
       "      <td>121.548509</td>\n",
       "      <td>3300</td>\n",
       "      <td>55.0</td>\n",
       "      <td>1.340554</td>\n",
       "      <td>1340.554487</td>\n",
       "    </tr>\n",
       "  </tbody>\n",
       "</table>\n",
       "</div>"
      ],
      "text/plain": [
       "   store_id promised delivery time       ordering time   latitude   longitude  \\\n",
       "0         1    2019-01-01 07:30:00 2019-01-01 06:30:07  31.167880  121.536578   \n",
       "1         1    2019-01-01 07:30:00 2019-01-01 06:35:02  31.175481  121.537246   \n",
       "2         1    2019-01-01 08:00:00 2019-01-01 06:47:55  31.179777  121.553969   \n",
       "3         1    2019-01-01 08:00:00 2019-01-01 06:48:59  31.175272  121.540357   \n",
       "4         1    2019-01-01 07:45:00 2019-01-01 06:50:00  31.175667  121.548509   \n",
       "\n",
       "   delivery time (s)  delivery time (m)  distance  distance (m)  \n",
       "0               3593               59.0  1.792374   1792.374399  \n",
       "1               3298               54.0  0.947436    947.436336  \n",
       "2               4325               72.0  1.564975   1564.975000  \n",
       "3               4261               71.0  0.985111    985.111196  \n",
       "4               3300               55.0  1.340554   1340.554487  "
      ]
     },
     "execution_count": 19,
     "metadata": {},
     "output_type": "execute_result"
    }
   ],
   "source": [
    "for index, row in data.iterrows():\n",
    "    r = row['store_id']\n",
    "    data.at[index, 'distance (m)'] = distance_loc((row['latitude'], row['longitude']), restaurants_dict[r]) * 1000\n",
    "\n",
    "data.head()"
   ]
  },
  {
   "cell_type": "code",
   "execution_count": 28,
   "id": "6d797e15",
   "metadata": {},
   "outputs": [
    {
     "data": {
      "text/plain": [
       "0.051988352112812816"
      ]
     },
     "execution_count": 28,
     "metadata": {},
     "output_type": "execute_result"
    }
   ],
   "source": [
    "corr = data['delivery time (s)'].corr(data['distance (m)'])\n",
    "corr"
   ]
  },
  {
   "cell_type": "markdown",
   "id": "b6c26ca3",
   "metadata": {},
   "source": [
    "## Write data to file"
   ]
  },
  {
   "cell_type": "code",
   "execution_count": 26,
   "id": "b2ab7eeb",
   "metadata": {
    "collapsed": true,
    "jupyter": {
     "outputs_hidden": true
    },
    "tags": []
   },
   "outputs": [
    {
     "name": "stdout",
     "output_type": "stream",
     "text": [
      "['2019-01-01', '2019-01-02', '2019-01-03', '2019-01-04', '2019-01-05', '2018-12-09', '2018-12-10', '2018-12-11', '2018-12-12', '2018-12-13', '2018-12-14', '2018-12-15', '2018-12-30', '2018-12-31', '2019-01-06', '2019-01-07', '2019-01-08', '2019-01-09', '2019-01-10', '2019-01-11', '2019-01-12']\n",
      "Finish writing data with restaurant 1.\n",
      "Finish writing data with restaurant 1 in day 2019-01-01 to csv file.\n",
      "Finish writing data with restaurant 1 in day 2019-01-02 to csv file.\n",
      "Finish writing data with restaurant 1 in day 2019-01-03 to csv file.\n",
      "Finish writing data with restaurant 1 in day 2019-01-04 to csv file.\n",
      "Finish writing data with restaurant 1 in day 2019-01-05 to csv file.\n",
      "Finish writing data with restaurant 1 in day 2018-12-09 to csv file.\n",
      "Finish writing data with restaurant 1 in day 2018-12-10 to csv file.\n",
      "Finish writing data with restaurant 1 in day 2018-12-11 to csv file.\n",
      "Finish writing data with restaurant 1 in day 2018-12-12 to csv file.\n",
      "Finish writing data with restaurant 1 in day 2018-12-13 to csv file.\n",
      "Finish writing data with restaurant 1 in day 2018-12-14 to csv file.\n",
      "Finish writing data with restaurant 1 in day 2018-12-15 to csv file.\n",
      "Finish writing data with restaurant 1 in day 2018-12-30 to csv file.\n",
      "Finish writing data with restaurant 1 in day 2018-12-31 to csv file.\n",
      "Finish writing data with restaurant 1 in day 2019-01-06 to csv file.\n",
      "Finish writing data with restaurant 1 in day 2019-01-07 to csv file.\n",
      "Finish writing data with restaurant 1 in day 2019-01-08 to csv file.\n",
      "Finish writing data with restaurant 1 in day 2019-01-09 to csv file.\n",
      "Finish writing data with restaurant 1 in day 2019-01-10 to csv file.\n",
      "Finish writing data with restaurant 1 in day 2019-01-11 to csv file.\n",
      "Finish writing data with restaurant 1 in day 2019-01-12 to csv file.\n",
      "Finish writing data with restaurant 2.\n",
      "Finish writing data with restaurant 2 in day 2019-01-01 to csv file.\n",
      "Finish writing data with restaurant 2 in day 2019-01-02 to csv file.\n",
      "Finish writing data with restaurant 2 in day 2019-01-03 to csv file.\n",
      "Finish writing data with restaurant 2 in day 2019-01-04 to csv file.\n",
      "Finish writing data with restaurant 2 in day 2019-01-05 to csv file.\n",
      "Finish writing data with restaurant 2 in day 2018-12-09 to csv file.\n",
      "Finish writing data with restaurant 2 in day 2018-12-10 to csv file.\n",
      "Finish writing data with restaurant 2 in day 2018-12-11 to csv file.\n",
      "Finish writing data with restaurant 2 in day 2018-12-12 to csv file.\n",
      "Finish writing data with restaurant 2 in day 2018-12-13 to csv file.\n",
      "Finish writing data with restaurant 2 in day 2018-12-14 to csv file.\n",
      "Finish writing data with restaurant 2 in day 2018-12-15 to csv file.\n",
      "Finish writing data with restaurant 2 in day 2018-12-30 to csv file.\n",
      "Finish writing data with restaurant 2 in day 2018-12-31 to csv file.\n",
      "Finish writing data with restaurant 2 in day 2019-01-06 to csv file.\n",
      "Finish writing data with restaurant 2 in day 2019-01-07 to csv file.\n",
      "Finish writing data with restaurant 2 in day 2019-01-08 to csv file.\n",
      "Finish writing data with restaurant 2 in day 2019-01-09 to csv file.\n",
      "Finish writing data with restaurant 2 in day 2019-01-10 to csv file.\n",
      "Finish writing data with restaurant 2 in day 2019-01-11 to csv file.\n",
      "Finish writing data with restaurant 2 in day 2019-01-12 to csv file.\n",
      "Finish data writing!\n"
     ]
    }
   ],
   "source": [
    "# get date\n",
    "dates = [i.strftime('%Y-%m-%d') for i in data['promised delivery time'].dt.date.unique()]\n",
    "print(dates)\n",
    "\n",
    "for r in restaurants:\n",
    "    # for each restaurant\n",
    "    df = data.loc[data['store_id'] == r]\n",
    "    df.to_csv(f'../Data/restaurant_{r}.csv')\n",
    "    print(f'Finish writing data with restaurant {r}.')\n",
    "\n",
    "    # for each date\n",
    "    for d in dates:\n",
    "        df_time = df.loc[df['promised delivery time'].dt.date == datetime.datetime.strptime(d,'%Y-%m-%d').date()]\n",
    "        df_time.to_csv(f'../Data/restaurant_{r}_{d}.csv')\n",
    "        print(f'Finish writing data with restaurant {r} in day {d} to csv file.')\n",
    "\n",
    "print('Finish data writing!')"
   ]
  },
  {
   "cell_type": "code",
   "execution_count": null,
   "id": "318f36a6",
   "metadata": {},
   "outputs": [],
   "source": [
    " "
   ]
  }
 ],
 "metadata": {
  "interpreter": {
   "hash": "1263883b180b8da35d7c354451881c6a97439cec7755c704984fb08ba01aa159"
  },
  "kernelspec": {
   "display_name": "Python 3",
   "language": "python",
   "name": "python3"
  },
  "language_info": {
   "codemirror_mode": {
    "name": "ipython",
    "version": 3
   },
   "file_extension": ".py",
   "mimetype": "text/x-python",
   "name": "python",
   "nbconvert_exporter": "python",
   "pygments_lexer": "ipython3",
   "version": "3.7.10"
  }
 },
 "nbformat": 4,
 "nbformat_minor": 5
}
