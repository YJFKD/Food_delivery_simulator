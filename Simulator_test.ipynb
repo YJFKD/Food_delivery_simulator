{
 "cells": [
  {
   "cell_type": "code",
   "execution_count": 8,
   "id": "0cacada2",
   "metadata": {},
   "outputs": [
    {
     "data": {
      "text/plain": [
       "(48.85587279023947, 2.7881914907163052)"
      ]
     },
     "execution_count": 8,
     "metadata": {},
     "output_type": "execute_result"
    }
   ],
   "source": [
    "import haversine as hs\n",
    "from math import pi\n",
    "\n",
    "paris = (48.8567, 2.3508)\n",
    "\n",
    "# west\n",
    "hs.inverse_haversine(paris, 32, pi * 0.5) # 2PI == north ?"
   ]
  },
  {
   "cell_type": "code",
   "execution_count": 9,
   "id": "d2bdabb2",
   "metadata": {},
   "outputs": [
    {
     "data": {
      "text/plain": [
       "tuple"
      ]
     },
     "execution_count": 9,
     "metadata": {},
     "output_type": "execute_result"
    }
   ],
   "source": [
    "type(hs.inverse_haversine(paris, 32, hs.Direction.WEST))"
   ]
  },
  {
   "cell_type": "code",
   "execution_count": 20,
   "id": "d09c9456",
   "metadata": {},
   "outputs": [
    {
     "data": {
      "text/plain": [
       "(48.85587279023947, 1.9134085092836945)"
      ]
     },
     "execution_count": 20,
     "metadata": {},
     "output_type": "execute_result"
    }
   ],
   "source": [
    "hs.inverse_haversine(paris, 32, pi * 1.5)"
   ]
  },
  {
   "cell_type": "code",
   "execution_count": 10,
   "id": "d7d0d2d2",
   "metadata": {},
   "outputs": [
    {
     "data": {
      "text/plain": [
       "(51.02767374798606, 2.3508)"
      ]
     },
     "execution_count": 10,
     "metadata": {},
     "output_type": "execute_result"
    }
   ],
   "source": [
    "hs.inverse_haversine(paris, 150, hs.Direction.NORTH, unit=hs.Unit.MILES)"
   ]
  },
  {
   "cell_type": "code",
   "execution_count": 24,
   "id": "516aaf7f",
   "metadata": {},
   "outputs": [
    {
     "data": {
      "text/plain": [
       "89.99952090766166"
      ]
     },
     "execution_count": 24,
     "metadata": {},
     "output_type": "execute_result"
    }
   ],
   "source": [
    "north_paris = (49.14448251639185, 2.3508)\n",
    "\n",
    "from geographiclib.geodesic import Geodesic\n",
    "\n",
    "def get_bearing(lat1, lat2, long1, long2):\n",
    "    brng = Geodesic.WGS84.Inverse(lat1, long1, lat2, long2)['azi1']\n",
    "    return brng\n",
    "\n",
    "get_bearing(paris[0], 48.85587279023947, paris[1], 2.7881914907163052)"
   ]
  },
  {
   "cell_type": "code",
   "execution_count": 1,
   "id": "49c2291d",
   "metadata": {},
   "outputs": [
    {
     "data": {
      "text/plain": [
       "435.59999999999997"
      ]
     },
     "execution_count": 1,
     "metadata": {},
     "output_type": "execute_result"
    }
   ],
   "source": [
    "3.63 * 120"
   ]
  },
  {
   "cell_type": "code",
   "execution_count": 6,
   "id": "6bce5556",
   "metadata": {},
   "outputs": [
    {
     "data": {
      "text/plain": [
       "0.8333333333333334"
      ]
     },
     "execution_count": 6,
     "metadata": {},
     "output_type": "execute_result"
    }
   ],
   "source": [
    "(100 / 120) * 1"
   ]
  },
  {
   "cell_type": "code",
   "execution_count": null,
   "id": "87df9820",
   "metadata": {},
   "outputs": [],
   "source": []
  }
 ],
 "metadata": {
  "kernelspec": {
   "display_name": "Python 3",
   "language": "python",
   "name": "python3"
  },
  "language_info": {
   "codemirror_mode": {
    "name": "ipython",
    "version": 3
   },
   "file_extension": ".py",
   "mimetype": "text/x-python",
   "name": "python",
   "nbconvert_exporter": "python",
   "pygments_lexer": "ipython3",
   "version": "3.7.11"
  }
 },
 "nbformat": 4,
 "nbformat_minor": 5
}
